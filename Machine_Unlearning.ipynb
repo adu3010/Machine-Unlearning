{
  "nbformat": 4,
  "nbformat_minor": 0,
  "metadata": {
    "colab": {
      "provenance": []
    },
    "kernelspec": {
      "name": "python3",
      "display_name": "Python 3"
    },
    "language_info": {
      "name": "python"
    }
  },
  "cells": [
    {
      "cell_type": "markdown",
      "source": [
        "#Machine Unlearning Project\n",
        "We'll use a simple classification problem for this example.\n",
        "Here's a step-by-step approach:\n",
        "\n",
        "1.Generate random data\n",
        "\n",
        "2.Train a model\n",
        "\n",
        "3.Validate the accuracy\n",
        "\n",
        "4.Implement unlearning\n",
        "\n",
        "5.Retrain the model\n",
        "\n",
        "6.Validate the accuracy again\n",
        "\n",
        "This project demonstrates the concept of machine unlearning using the MNIST handwritten digits dataset. The goal is to train a neural network to recognize digits, then selectively \"unlearn\" a specific digit, and finally retrain the model to recover its performance."
      ],
      "metadata": {
        "id": "6zCrHvtQiqef"
      }
    },
    {
      "cell_type": "code",
      "source": [
        "import torch\n",
        "import torch.nn as nn\n",
        "import torch.optim as optim\n",
        "from torchvision import datasets, transforms\n",
        "from torch.utils.data import DataLoader, Subset\n",
        "import matplotlib.pyplot as plt\n",
        "\n",
        "torch.manual_seed(42)\n",
        "\n",
        "class Net(nn.Module):\n",
        "    def __init__(self):\n",
        "        super(Net, self).__init__()\n",
        "        self.fc1 = nn.Linear(28 * 28, 128)\n",
        "        self.fc2 = nn.Linear(128, 64)\n",
        "        self.fc3 = nn.Linear(64, 10)\n",
        "\n",
        "    def forward(self, x):\n",
        "        x = x.view(-1, 28 * 28)\n",
        "        x = torch.relu(self.fc1(x))\n",
        "        x = torch.relu(self.fc2(x))\n",
        "        x = self.fc3(x)\n",
        "        return x\n",
        "\n",
        "def load_data():\n",
        "    transform = transforms.Compose([transforms.ToTensor(), transforms.Normalize((0.1307,), (0.3081,))])\n",
        "    train_dataset = datasets.MNIST(root='./data', train=True, download=True, transform=transform)\n",
        "    test_dataset = datasets.MNIST(root='./data', train=False, download=True, transform=transform)\n",
        "    return train_dataset, test_dataset\n",
        "\n",
        "def train(model, train_loader, optimizer, criterion, device):\n",
        "    model.train()\n",
        "    for batch_idx, (data, target) in enumerate(train_loader):\n",
        "        data, target = data.to(device), target.to(device)\n",
        "        optimizer.zero_grad()\n",
        "        output = model(data)\n",
        "        loss = criterion(output, target)\n",
        "        loss.backward()\n",
        "        optimizer.step()\n",
        "\n",
        "def test(model, test_loader, device):\n",
        "    model.eval()\n",
        "    correct = 0\n",
        "    with torch.no_grad():\n",
        "        for data, target in test_loader:\n",
        "            data, target = data.to(device), target.to(device)\n",
        "            output = model(data)\n",
        "            pred = output.argmax(dim=1, keepdim=True)\n",
        "            correct += pred.eq(target.view_as(pred)).sum().item()\n",
        "    accuracy = 100. * correct / len(test_loader.dataset)\n",
        "    return accuracy\n",
        "\n",
        "def unlearn(model, unlearn_loader, optimizer, criterion, device, epochs=1):\n",
        "    for epoch in range(epochs):\n",
        "        for batch_idx, (data, target) in enumerate(unlearn_loader):\n",
        "            data, target = data.to(device), target.to(device)\n",
        "            optimizer.zero_grad()\n",
        "            output = model(data)\n",
        "\n",
        "            # Instead of negative loss, we'll use a uniform distribution as target\n",
        "            unlearn_target = torch.full_like(output, 0.1)\n",
        "            loss = criterion(output, unlearn_target)\n",
        "            loss.backward()\n",
        "            optimizer.step()\n",
        "\n",
        "def main():\n",
        "    device = torch.device(\"cuda\" if torch.cuda.is_available() else \"cpu\")\n",
        "\n",
        "    train_dataset, test_dataset = load_data()\n",
        "\n",
        "    train_loader = DataLoader(train_dataset, batch_size=64, shuffle=True)\n",
        "    test_loader = DataLoader(test_dataset, batch_size=1000, shuffle=False)\n",
        "\n",
        "    model = Net().to(device)\n",
        "    optimizer = optim.Adam(model.parameters(), lr=0.001)\n",
        "    criterion = nn.CrossEntropyLoss()\n",
        "\n",
        "    print(\"Initial training...\")\n",
        "    for epoch in range(5):\n",
        "        train(model, train_loader, optimizer, criterion, device)\n",
        "    initial_accuracy = test(model, test_loader, device)\n",
        "    print(f\"Initial accuracy: {initial_accuracy:.2f}%\")\n",
        "\n",
        "    print(\"Unlearning digit 5...\")\n",
        "    unlearn_indices = [i for i, (_, label) in enumerate(train_dataset) if label == 5]\n",
        "    unlearn_dataset = Subset(train_dataset, unlearn_indices)\n",
        "    unlearn_loader = DataLoader(unlearn_dataset, batch_size=64, shuffle=True)\n",
        "    unlearn(model, unlearn_loader, optimizer, nn.MSELoss(), device)\n",
        "    unlearn_accuracy = test(model, test_loader, device)\n",
        "    print(f\"Accuracy after unlearning: {unlearn_accuracy:.2f}%\")\n",
        "\n",
        "    print(\"Relearning...\")\n",
        "    for epoch in range(3):\n",
        "        train(model, train_loader, optimizer, criterion, device)\n",
        "    relearn_accuracy = test(model, test_loader, device)\n",
        "    print(f\"Accuracy after relearning: {relearn_accuracy:.2f}%\")\n",
        "\n",
        "    #Visualise\n",
        "    plt.figure(figsize=(10, 6))\n",
        "    plt.bar(['Initial', 'After Unlearning', 'After Relearning'],\n",
        "            [initial_accuracy, unlearn_accuracy, relearn_accuracy])\n",
        "    plt.title('Model Accuracy Throughout the Process')\n",
        "    plt.ylabel('Accuracy (%)')\n",
        "    plt.ylim(0, 100)\n",
        "    plt.show()\n",
        "\n",
        "if __name__ == \"__main__\":\n",
        "    main()"
      ],
      "metadata": {
        "colab": {
          "base_uri": "https://localhost:8080/",
          "height": 649
        },
        "id": "j2qnm0djj6OO",
        "outputId": "699b091b-f082-433c-ebf3-f57880b3bb14"
      },
      "execution_count": null,
      "outputs": [
        {
          "output_type": "stream",
          "name": "stdout",
          "text": [
            "Initial training...\n",
            "Initial accuracy: 97.19%\n",
            "Unlearning digit 5...\n",
            "Accuracy after unlearning: 11.36%\n",
            "Relearning...\n",
            "Accuracy after relearning: 97.25%\n"
          ]
        },
        {
          "output_type": "display_data",
          "data": {
            "text/plain": [
              "<Figure size 1000x600 with 1 Axes>"
            ],
            "image/png": "[encoded data removed]"
          },
          "metadata": {}
        }
      ]
    },
    {
      "cell_type": "markdown",
      "source": [
        "Initial accuracy: 97.19%\n",
        "\n",
        "This is a good accuracy for a simple neural network on the MNIST dataset.\n",
        "Accuracy after unlearning: 11.36%\n",
        "\n",
        "This significant drop is expected because the model has been trained to be uncertain about digit 5, which affects its overall performance. However, it's not as drastic as the previous 10.10% you reported earlier.\n",
        "\n",
        "Accuracy after relearning: 97.25%\n",
        "\n",
        "This is the key improvement. The model has successfully relearned and slightly surpassed its initial accuracy.\n",
        "\n",
        "This result demonstrates a successful machine unlearning process because:\n",
        "\n",
        "The model initially learned the MNIST dataset well.\n",
        "\n",
        "It then \"unlearned\" specific information (about digit 5), causing a temporary drop in overall accuracy.\n",
        "\n",
        "Finally, it relearned on the full dataset, recovering its performance and even slightly improving it."
      ],
      "metadata": {
        "id": "WhcrPDXWnpNI"
      }
    },
    {
      "cell_type": "code",
      "source": [],
      "metadata": {
        "id": "jktrt_RZlFPx"
      },
      "execution_count": null,
      "outputs": []
    }
  ]
}